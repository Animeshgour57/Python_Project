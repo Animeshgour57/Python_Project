{
 "cells": [
  {
   "cell_type": "code",
   "execution_count": 1,
   "id": "2099bfad",
   "metadata": {},
   "outputs": [
    {
     "name": "stdout",
     "output_type": "stream",
     "text": [
      "\n",
      "1. RADIANS TO DEGREE\n",
      "2. DGEREE TO RADIANS \n",
      "3. NUMBER TO ITS FACTORIAL \n",
      "4. MEGABYTE TO NIBBLE \n",
      "5. KM/HOUR TO M/SEC\n",
      "6. INTEGER TO FLOAT \n",
      "7. DECIMAL TO OCTAL \n",
      "8. DECIMAL TO HEXADECIMAL\n",
      "9. DECIMAL TO BINARY CONVERSION \n",
      "10. CHARACTER TO ASCII \n",
      "11. CELCIUS TO FARENHITE \n",
      "12. NUMBER TO ITS SQUARE ROOT \n",
      "13. FRACTION TO DECIMAL \n",
      "14. M/S TO KM/HOUR\n",
      "15. FLOAT TO INTEGER \n",
      "16. OCTAL TO DECIMAL \n",
      "17. HEXADECMAL TO DECIMAL \n",
      "18. BINARY TO DECIMAL \n",
      "19. ASCII TO CHARACTER \n",
      "20. FARENHITE TO CELCIOUS \n",
      "ENTER THE NO. WHAT CONVERSION YOU ARE LOOKING FOR 5\n"
     ]
    }
   ],
   "source": [
    "print('''\n",
    "1. RADIANS TO DEGREE\n",
    "2. DGEREE TO RADIANS \n",
    "3. NUMBER TO ITS FACTORIAL \n",
    "4. MEGABYTE TO NIBBLE \n",
    "5. KM/HOUR TO M/SEC\n",
    "6. INTEGER TO FLOAT \n",
    "7. DECIMAL TO OCTAL \n",
    "8. DECIMAL TO HEXADECIMAL\n",
    "9. DECIMAL TO BINARY CONVERSION \n",
    "10. CHARACTER TO ASCII \n",
    "11. CELCIUS TO FARENHITE \n",
    "12. NUMBER TO ITS SQUARE ROOT \n",
    "13. FRACTION TO DECIMAL \n",
    "14. M/S TO KM/HOUR\n",
    "15. FLOAT TO INTEGER \n",
    "16. OCTAL TO DECIMAL \n",
    "17. HEXADECMAL TO DECIMAL \n",
    "18. BINARY TO DECIMAL \n",
    "19. ASCII TO CHARACTER \n",
    "20. FARENHITE TO CELCIOUS ''')\n",
    "\n",
    "a = int(input(\"ENTER THE NO. WHAT CONVERSION YOU ARE LOOKING FOR \"))\n",
    "\n"
   ]
  },
  {
   "cell_type": "code",
   "execution_count": null,
   "id": "1526cac1",
   "metadata": {},
   "outputs": [],
   "source": []
  },
  {
   "cell_type": "code",
   "execution_count": 2,
   "id": "d0ee3f32",
   "metadata": {},
   "outputs": [
    {
     "ename": "NameError",
     "evalue": "name 'kmh_ms' is not defined",
     "output_type": "error",
     "traceback": [
      "\u001b[1;31m---------------------------------------------------------------------------\u001b[0m",
      "\u001b[1;31mNameError\u001b[0m                                 Traceback (most recent call last)",
      "Input \u001b[1;32mIn [2]\u001b[0m, in \u001b[0;36m<cell line: 1>\u001b[1;34m()\u001b[0m\n\u001b[1;32m----> 1\u001b[0m \u001b[43mkmh_ms\u001b[49m(\u001b[38;5;241m18\u001b[39m)\n",
      "\u001b[1;31mNameError\u001b[0m: name 'kmh_ms' is not defined"
     ]
    }
   ],
   "source": [
    "kmh_ms(18)"
   ]
  },
  {
   "cell_type": "code",
   "execution_count": 3,
   "id": "a0e77655",
   "metadata": {},
   "outputs": [],
   "source": [
    "import math"
   ]
  },
  {
   "cell_type": "code",
   "execution_count": 5,
   "id": "31d6cf40",
   "metadata": {
    "scrolled": true
   },
   "outputs": [
    {
     "name": "stdout",
     "output_type": "stream",
     "text": [
      "\n",
      "1. RADIANS TO DEGREE\n",
      "2. DGEREE TO RADIANS \n",
      "3. NUMBER TO ITS FACTORIAL \n",
      "\n",
      "5. KM/HOUR TO M/SEC\n",
      "6. INTEGER TO FLOAT \n",
      "7. DECIMAL TO OCTAL \n",
      "8. DECIMAL TO HEXADECIMAL\n",
      "9. DECIMAL TO BINARY CONVERSION \n",
      "\n",
      "12. NUMBER TO ITS SQUARE ROOT \n",
      "\n",
      "14. M/S TO KM/HOUR\n",
      "15. FLOAT TO INTEGER \n",
      "ENTER THE NO. WHAT CONVERSION YOU ARE LOOKING FOR---: 3\n",
      "ENTER A NUMBER TO FIND OUT ITS FACTORIAL ---: 5\n",
      "120\n"
     ]
    }
   ],
   "source": [
    "#1 \n",
    "def rad_deg(x):\n",
    "    b = math.degrees(x)\n",
    "    print(b)\n",
    "\n",
    "# 2 \n",
    "def deg_rad(x):\n",
    "    b = math.radians(x)\n",
    "    print(b)\n",
    "\n",
    "# 3 \n",
    "def num_fact(x):\n",
    "    b = math.factorial(x)\n",
    "    print(b)\n",
    "    \n",
    "#5\n",
    "def kmh_ms(x):\n",
    "    b = x*(5/18)\n",
    "    print(f\"{x} km/hr is equal to {b} m/s\")\n",
    "# 6\n",
    "def inte_fl(x):\n",
    "    b = float(x)\n",
    "    print(b)\n",
    "\n",
    "#7\n",
    "def deci_octa(x):\n",
    "    b = oct(x)\n",
    "    print(b) \n",
    "#8 \n",
    "def deci_bina(x):\n",
    "    b = bin(x)\n",
    "    print(b)\n",
    "\n",
    "# 9 \n",
    "def deci_hexa(x):\n",
    "    b = hex(x)\n",
    "    print(b) \n",
    "\n",
    "# 12\n",
    "def num_sqt(x):\n",
    "    b = math.sqrt(x)\n",
    "    print(b) \n",
    "\n",
    "# 14\n",
    "def ms_kmh(x):\n",
    "    b= x*(18/5)\n",
    "    print(b) \n",
    "\n",
    "# 15\n",
    "def fl_inte(x):\n",
    "    b = int(x)\n",
    "    print(b) \n",
    "\n",
    "print('''\n",
    "1. RADIANS TO DEGREE\n",
    "2. DGEREE TO RADIANS \n",
    "3. NUMBER TO ITS FACTORIAL \n",
    "\n",
    "5. KM/HOUR TO M/SEC\n",
    "6. INTEGER TO FLOAT \n",
    "7. DECIMAL TO OCTAL \n",
    "8. DECIMAL TO HEXADECIMAL\n",
    "9. DECIMAL TO BINARY CONVERSION \n",
    "\n",
    "12. NUMBER TO ITS SQUARE ROOT \n",
    "\n",
    "14. M/S TO KM/HOUR\n",
    "15. FLOAT TO INTEGER ''' )\n",
    " \n",
    "\n",
    "a = int(input(\"ENTER THE NO. WHAT CONVERSION YOU ARE LOOKING FOR---: \"))\n",
    "\n",
    "if (a == 1):\n",
    "    v = float(input(\"ENTER A VALUE IN RADIAN TO CONVERT IT INTO DEGREE ---:\"))\n",
    "    rad_deg(v)\n",
    "    \n",
    "elif (a ==2 ):\n",
    "    v = float(input(\"ENTER A VALUE IN DEGREE TO CONVERT IT INTO RADIAN ---:\"))\n",
    "    deg_rad(v)\n",
    "    \n",
    "elif ( a == 3):\n",
    "    v = int(input(\"ENTER A NUMBER TO FIND OUT ITS FACTORIAL ---: \"))\n",
    "    num_fact(v)\n",
    "\n",
    "elif (a == 5):\n",
    "    v = float(input(\"ENTER A SPEED IN KM/H TO CONVERT IT INTO M/S---: \"))\n",
    "    kmh_ms(v)\n",
    "#--------------------------------------------------------------------------    \n",
    "elif (a == 7):\n",
    "    v = int(input(\"ENTER A VALUE IN DECIMAL  TO CONVERT IT INTO OCTA DECIMAL---:\"))\n",
    "    deci_octa(v)\n",
    "    \n",
    "elif (a == 8):\n",
    "    v = int(input(\"ENTER A VALUE IN DECIMAL  TO CONVERT IT INTO HEXA DECIMAL---: \"))\n",
    "    deci_hexa(v)\n",
    "    \n",
    "elif (a == 9):\n",
    "    v = int(input(\"ENTER A VALUE IN DECIMAL  TO CONVERT IT INTO BINARY---: \"))\n",
    "    deci_bina(v)\n",
    "    \n",
    "elif (a == 6):\n",
    "    v = int(input(\"ENTER A INTEGER TO CONVERT IT INTO FLOAT---: \"))\n",
    "    inte_fl(v)\n",
    "    \n",
    "    \n",
    "elif (a == 14):\n",
    "    v = float(input(\"ENTER A SPEED IN M/S TO CONVERT IT INTO KM/H---: \"))\n",
    "    ms_kmh(v)\n",
    "    \n",
    "elif (a == 15):\n",
    "    v = float(input(\"ENTER A FLOAT TO CONVERT IT INTO INTEGER---:  \"))\n",
    "    fl_inte(v)\n",
    "    \n",
    "\n",
    "\n",
    "\n",
    "\n",
    "\n",
    "\n",
    "\n",
    "\n",
    "\n",
    "\n",
    "\n",
    "\n",
    "\n",
    "\n",
    "\n"
   ]
  },
  {
   "cell_type": "code",
   "execution_count": null,
   "id": "00cf8fe5",
   "metadata": {},
   "outputs": [],
   "source": []
  },
  {
   "cell_type": "code",
   "execution_count": null,
   "id": "4fb17e4c",
   "metadata": {},
   "outputs": [],
   "source": []
  },
  {
   "cell_type": "code",
   "execution_count": null,
   "id": "01c7dad3",
   "metadata": {},
   "outputs": [],
   "source": []
  },
  {
   "cell_type": "code",
   "execution_count": null,
   "id": "bca6bc5a",
   "metadata": {},
   "outputs": [],
   "source": []
  },
  {
   "cell_type": "code",
   "execution_count": null,
   "id": "091ca2dd",
   "metadata": {},
   "outputs": [],
   "source": []
  },
  {
   "cell_type": "code",
   "execution_count": null,
   "id": "13e97a45",
   "metadata": {},
   "outputs": [],
   "source": []
  },
  {
   "cell_type": "code",
   "execution_count": null,
   "id": "2254a03f",
   "metadata": {},
   "outputs": [],
   "source": []
  },
  {
   "cell_type": "code",
   "execution_count": null,
   "id": "e20cf4cd",
   "metadata": {},
   "outputs": [],
   "source": [
    "rad_deg(100)"
   ]
  },
  {
   "cell_type": "code",
   "execution_count": null,
   "id": "bc35adbd",
   "metadata": {},
   "outputs": [],
   "source": [
    "import math"
   ]
  },
  {
   "cell_type": "code",
   "execution_count": null,
   "id": "9f9509a9",
   "metadata": {},
   "outputs": [],
   "source": []
  },
  {
   "cell_type": "code",
   "execution_count": null,
   "id": "b7bbcb31",
   "metadata": {},
   "outputs": [],
   "source": [
    "num_fact(5)"
   ]
  },
  {
   "cell_type": "code",
   "execution_count": null,
   "id": "5da813a4",
   "metadata": {},
   "outputs": [],
   "source": [
    "# 2 \n",
    "def deg_rad(x):\n",
    "    b = math.radians(x)\n",
    "    print(b)"
   ]
  },
  {
   "cell_type": "code",
   "execution_count": null,
   "id": "d0f18b7b",
   "metadata": {},
   "outputs": [],
   "source": [
    "deg_rad(5729.5779513)"
   ]
  },
  {
   "cell_type": "code",
   "execution_count": null,
   "id": "9868a4a6",
   "metadata": {},
   "outputs": [],
   "source": [
    "\n",
    "\n"
   ]
  },
  {
   "cell_type": "code",
   "execution_count": null,
   "id": "5e7a1df3",
   "metadata": {},
   "outputs": [],
   "source": []
  },
  {
   "cell_type": "code",
   "execution_count": null,
   "id": "a2d90b8a",
   "metadata": {},
   "outputs": [],
   "source": []
  },
  {
   "cell_type": "code",
   "execution_count": null,
   "id": "89b23bbb",
   "metadata": {},
   "outputs": [],
   "source": []
  },
  {
   "cell_type": "code",
   "execution_count": null,
   "id": "239c924a",
   "metadata": {},
   "outputs": [],
   "source": [
    "num_sqt(121)"
   ]
  },
  {
   "cell_type": "code",
   "execution_count": null,
   "id": "2633a7c1",
   "metadata": {},
   "outputs": [],
   "source": [
    "\n"
   ]
  },
  {
   "cell_type": "code",
   "execution_count": null,
   "id": "32001564",
   "metadata": {},
   "outputs": [],
   "source": [
    "fl_inte(32.555)"
   ]
  },
  {
   "cell_type": "code",
   "execution_count": null,
   "id": "f15e8622",
   "metadata": {},
   "outputs": [],
   "source": []
  },
  {
   "cell_type": "code",
   "execution_count": null,
   "id": "78c0e413",
   "metadata": {},
   "outputs": [],
   "source": []
  }
 ],
 "metadata": {
  "kernelspec": {
   "display_name": "Python 3 (ipykernel)",
   "language": "python",
   "name": "python3"
  },
  "language_info": {
   "codemirror_mode": {
    "name": "ipython",
    "version": 3
   },
   "file_extension": ".py",
   "mimetype": "text/x-python",
   "name": "python",
   "nbconvert_exporter": "python",
   "pygments_lexer": "ipython3",
   "version": "3.9.12"
  }
 },
 "nbformat": 4,
 "nbformat_minor": 5
}
