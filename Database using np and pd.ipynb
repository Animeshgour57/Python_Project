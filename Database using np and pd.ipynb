{
 "cells": [
  {
   "cell_type": "markdown",
   "id": "8cef3462",
   "metadata": {},
   "source": [
    "# Project using Numpy and Pandas libraries in Python "
   ]
  },
  {
   "cell_type": "raw",
   "id": "bf183bf6",
   "metadata": {},
   "source": [
    "In this project, I am creating and manipulating the data of employees for a company, to accomplish this I have made some questions. After solving each question we will have structured information about all the employees that can be used in future.\n",
    "•\tI have used numpy and pandas libraries.\n",
    "•\tUsed various operator like +(addition),~(logical not).\n",
    "•\tCreate and manipulate data frame.\n"
   ]
  },
  {
   "cell_type": "code",
   "execution_count": 1,
   "id": "38cb7138",
   "metadata": {},
   "outputs": [],
   "source": [
    "### importing numpy and pandas librries \n",
    "import numpy as np \n",
    "import pandas as pd"
   ]
  },
  {
   "cell_type": "markdown",
   "id": "24cc1bbb",
   "metadata": {},
   "source": [
    "### Q-1) MegaCity Builders is a construction company. They seek the help of their data analyst to generate employee codes from 1 to 1,000 for their part-time work force, as they are not interested in the RDBMS solution\n",
    "   \n",
    "   ."
   ]
  },
  {
   "cell_type": "code",
   "execution_count": 2,
   "id": "7b0d04c0",
   "metadata": {},
   "outputs": [],
   "source": [
    "megacity = pd.DataFrame()"
   ]
  },
  {
   "cell_type": "code",
   "execution_count": 3,
   "id": "932de921",
   "metadata": {},
   "outputs": [],
   "source": [
    "megacity['empl_code'] = np.arange(1,1001)"
   ]
  },
  {
   "cell_type": "code",
   "execution_count": 4,
   "id": "15681586",
   "metadata": {},
   "outputs": [
    {
     "data": {
      "text/html": [
       "<div>\n",
       "<style scoped>\n",
       "    .dataframe tbody tr th:only-of-type {\n",
       "        vertical-align: middle;\n",
       "    }\n",
       "\n",
       "    .dataframe tbody tr th {\n",
       "        vertical-align: top;\n",
       "    }\n",
       "\n",
       "    .dataframe thead th {\n",
       "        text-align: right;\n",
       "    }\n",
       "</style>\n",
       "<table border=\"1\" class=\"dataframe\">\n",
       "  <thead>\n",
       "    <tr style=\"text-align: right;\">\n",
       "      <th></th>\n",
       "      <th>empl_code</th>\n",
       "    </tr>\n",
       "  </thead>\n",
       "  <tbody>\n",
       "    <tr>\n",
       "      <th>0</th>\n",
       "      <td>1</td>\n",
       "    </tr>\n",
       "    <tr>\n",
       "      <th>1</th>\n",
       "      <td>2</td>\n",
       "    </tr>\n",
       "    <tr>\n",
       "      <th>2</th>\n",
       "      <td>3</td>\n",
       "    </tr>\n",
       "    <tr>\n",
       "      <th>3</th>\n",
       "      <td>4</td>\n",
       "    </tr>\n",
       "    <tr>\n",
       "      <th>4</th>\n",
       "      <td>5</td>\n",
       "    </tr>\n",
       "  </tbody>\n",
       "</table>\n",
       "</div>"
      ],
      "text/plain": [
       "   empl_code\n",
       "0          1\n",
       "1          2\n",
       "2          3\n",
       "3          4\n",
       "4          5"
      ]
     },
     "execution_count": 4,
     "metadata": {},
     "output_type": "execute_result"
    }
   ],
   "source": [
    "megacity.head()"
   ]
  },
  {
   "cell_type": "markdown",
   "id": "ed6a6acf",
   "metadata": {},
   "source": [
    "### Q-2) The company decides to give cash bonus to its employees on Christmas.  How can you generate the random bonus amounts ranging from 100 USD to 300 USD for the 1,000 employees?\n",
    " \n",
    "  \n"
   ]
  },
  {
   "cell_type": "code",
   "execution_count": null,
   "id": "b99b97d8",
   "metadata": {},
   "outputs": [],
   "source": []
  },
  {
   "cell_type": "code",
   "execution_count": 5,
   "id": "bc8877a5",
   "metadata": {},
   "outputs": [],
   "source": [
    "megacity['Bonus (USD)'] = np.random.randint(100,300,1000)"
   ]
  },
  {
   "cell_type": "code",
   "execution_count": 6,
   "id": "974af06f",
   "metadata": {},
   "outputs": [
    {
     "data": {
      "text/html": [
       "<div>\n",
       "<style scoped>\n",
       "    .dataframe tbody tr th:only-of-type {\n",
       "        vertical-align: middle;\n",
       "    }\n",
       "\n",
       "    .dataframe tbody tr th {\n",
       "        vertical-align: top;\n",
       "    }\n",
       "\n",
       "    .dataframe thead th {\n",
       "        text-align: right;\n",
       "    }\n",
       "</style>\n",
       "<table border=\"1\" class=\"dataframe\">\n",
       "  <thead>\n",
       "    <tr style=\"text-align: right;\">\n",
       "      <th></th>\n",
       "      <th>empl_code</th>\n",
       "      <th>Bonus (USD)</th>\n",
       "    </tr>\n",
       "  </thead>\n",
       "  <tbody>\n",
       "    <tr>\n",
       "      <th>0</th>\n",
       "      <td>1</td>\n",
       "      <td>102</td>\n",
       "    </tr>\n",
       "    <tr>\n",
       "      <th>1</th>\n",
       "      <td>2</td>\n",
       "      <td>253</td>\n",
       "    </tr>\n",
       "    <tr>\n",
       "      <th>2</th>\n",
       "      <td>3</td>\n",
       "      <td>123</td>\n",
       "    </tr>\n",
       "    <tr>\n",
       "      <th>3</th>\n",
       "      <td>4</td>\n",
       "      <td>117</td>\n",
       "    </tr>\n",
       "    <tr>\n",
       "      <th>4</th>\n",
       "      <td>5</td>\n",
       "      <td>125</td>\n",
       "    </tr>\n",
       "  </tbody>\n",
       "</table>\n",
       "</div>"
      ],
      "text/plain": [
       "   empl_code  Bonus (USD)\n",
       "0          1          102\n",
       "1          2          253\n",
       "2          3          123\n",
       "3          4          117\n",
       "4          5          125"
      ]
     },
     "execution_count": 6,
     "metadata": {},
     "output_type": "execute_result"
    }
   ],
   "source": [
    "megacity.head()"
   ]
  },
  {
   "cell_type": "markdown",
   "id": "e8ec7a5a",
   "metadata": {},
   "source": [
    "### Q-3) MegaCity builders has a total of 1,000 part-time employees. The annual salary of these employees lies between 10,000 USD to 20,000 USD. The company wishes to find the average annual salary of employees. \n",
    "                \n"
   ]
  },
  {
   "cell_type": "code",
   "execution_count": 7,
   "id": "9a10e375",
   "metadata": {},
   "outputs": [],
   "source": [
    "megacity['Salary(USD)'] = np.random.randint(10000,20000,1000)"
   ]
  },
  {
   "cell_type": "code",
   "execution_count": 8,
   "id": "a876391c",
   "metadata": {},
   "outputs": [
    {
     "data": {
      "text/html": [
       "<div>\n",
       "<style scoped>\n",
       "    .dataframe tbody tr th:only-of-type {\n",
       "        vertical-align: middle;\n",
       "    }\n",
       "\n",
       "    .dataframe tbody tr th {\n",
       "        vertical-align: top;\n",
       "    }\n",
       "\n",
       "    .dataframe thead th {\n",
       "        text-align: right;\n",
       "    }\n",
       "</style>\n",
       "<table border=\"1\" class=\"dataframe\">\n",
       "  <thead>\n",
       "    <tr style=\"text-align: right;\">\n",
       "      <th></th>\n",
       "      <th>empl_code</th>\n",
       "      <th>Bonus (USD)</th>\n",
       "      <th>Salary(USD)</th>\n",
       "    </tr>\n",
       "  </thead>\n",
       "  <tbody>\n",
       "    <tr>\n",
       "      <th>0</th>\n",
       "      <td>1</td>\n",
       "      <td>102</td>\n",
       "      <td>18256</td>\n",
       "    </tr>\n",
       "    <tr>\n",
       "      <th>1</th>\n",
       "      <td>2</td>\n",
       "      <td>253</td>\n",
       "      <td>17688</td>\n",
       "    </tr>\n",
       "    <tr>\n",
       "      <th>2</th>\n",
       "      <td>3</td>\n",
       "      <td>123</td>\n",
       "      <td>17567</td>\n",
       "    </tr>\n",
       "    <tr>\n",
       "      <th>3</th>\n",
       "      <td>4</td>\n",
       "      <td>117</td>\n",
       "      <td>17170</td>\n",
       "    </tr>\n",
       "    <tr>\n",
       "      <th>4</th>\n",
       "      <td>5</td>\n",
       "      <td>125</td>\n",
       "      <td>11998</td>\n",
       "    </tr>\n",
       "  </tbody>\n",
       "</table>\n",
       "</div>"
      ],
      "text/plain": [
       "   empl_code  Bonus (USD)  Salary(USD)\n",
       "0          1          102        18256\n",
       "1          2          253        17688\n",
       "2          3          123        17567\n",
       "3          4          117        17170\n",
       "4          5          125        11998"
      ]
     },
     "execution_count": 8,
     "metadata": {},
     "output_type": "execute_result"
    }
   ],
   "source": [
    "megacity.head()"
   ]
  },
  {
   "cell_type": "code",
   "execution_count": 9,
   "id": "4cc28c76",
   "metadata": {
    "scrolled": true
   },
   "outputs": [
    {
     "name": "stdout",
     "output_type": "stream",
     "text": [
      "Average salary of all the employees of megacity is USD 14957.849\n"
     ]
    }
   ],
   "source": [
    "avg_salary = megacity['Salary(USD)'].mean()\n",
    "print(f\"Average salary of all the employees of megacity is USD {avg_salary}\")"
   ]
  },
  {
   "cell_type": "code",
   "execution_count": null,
   "id": "2cf80048",
   "metadata": {},
   "outputs": [],
   "source": []
  },
  {
   "cell_type": "markdown",
   "id": "a28ea4bd",
   "metadata": {},
   "source": [
    "### Q-4) Print the salaries of all the employees with the bonuses included."
   ]
  },
  {
   "cell_type": "code",
   "execution_count": 10,
   "id": "dd89fa2f",
   "metadata": {},
   "outputs": [],
   "source": [
    "megacity['Total_salary '] = megacity['Bonus (USD)'] + megacity['Salary(USD)']"
   ]
  },
  {
   "cell_type": "code",
   "execution_count": 11,
   "id": "3b0e7724",
   "metadata": {
    "scrolled": true
   },
   "outputs": [
    {
     "data": {
      "text/html": [
       "<div>\n",
       "<style scoped>\n",
       "    .dataframe tbody tr th:only-of-type {\n",
       "        vertical-align: middle;\n",
       "    }\n",
       "\n",
       "    .dataframe tbody tr th {\n",
       "        vertical-align: top;\n",
       "    }\n",
       "\n",
       "    .dataframe thead th {\n",
       "        text-align: right;\n",
       "    }\n",
       "</style>\n",
       "<table border=\"1\" class=\"dataframe\">\n",
       "  <thead>\n",
       "    <tr style=\"text-align: right;\">\n",
       "      <th></th>\n",
       "      <th>empl_code</th>\n",
       "      <th>Bonus (USD)</th>\n",
       "      <th>Salary(USD)</th>\n",
       "      <th>Total_salary</th>\n",
       "    </tr>\n",
       "  </thead>\n",
       "  <tbody>\n",
       "    <tr>\n",
       "      <th>0</th>\n",
       "      <td>1</td>\n",
       "      <td>102</td>\n",
       "      <td>18256</td>\n",
       "      <td>18358</td>\n",
       "    </tr>\n",
       "    <tr>\n",
       "      <th>1</th>\n",
       "      <td>2</td>\n",
       "      <td>253</td>\n",
       "      <td>17688</td>\n",
       "      <td>17941</td>\n",
       "    </tr>\n",
       "    <tr>\n",
       "      <th>2</th>\n",
       "      <td>3</td>\n",
       "      <td>123</td>\n",
       "      <td>17567</td>\n",
       "      <td>17690</td>\n",
       "    </tr>\n",
       "    <tr>\n",
       "      <th>3</th>\n",
       "      <td>4</td>\n",
       "      <td>117</td>\n",
       "      <td>17170</td>\n",
       "      <td>17287</td>\n",
       "    </tr>\n",
       "    <tr>\n",
       "      <th>4</th>\n",
       "      <td>5</td>\n",
       "      <td>125</td>\n",
       "      <td>11998</td>\n",
       "      <td>12123</td>\n",
       "    </tr>\n",
       "  </tbody>\n",
       "</table>\n",
       "</div>"
      ],
      "text/plain": [
       "   empl_code  Bonus (USD)  Salary(USD)  Total_salary \n",
       "0          1          102        18256          18358\n",
       "1          2          253        17688          17941\n",
       "2          3          123        17567          17690\n",
       "3          4          117        17170          17287\n",
       "4          5          125        11998          12123"
      ]
     },
     "execution_count": 11,
     "metadata": {},
     "output_type": "execute_result"
    }
   ],
   "source": [
    "megacity.head()"
   ]
  },
  {
   "cell_type": "code",
   "execution_count": null,
   "id": "a0ffdb0c",
   "metadata": {},
   "outputs": [],
   "source": []
  },
  {
   "cell_type": "markdown",
   "id": "d6b3eab4",
   "metadata": {},
   "source": [
    "### Q-5) The HR of MegaCity Builders wishes to print those employee IDs that even number.\n"
   ]
  },
  {
   "cell_type": "code",
   "execution_count": 12,
   "id": "3e776518",
   "metadata": {},
   "outputs": [
    {
     "data": {
      "text/html": [
       "<div>\n",
       "<style scoped>\n",
       "    .dataframe tbody tr th:only-of-type {\n",
       "        vertical-align: middle;\n",
       "    }\n",
       "\n",
       "    .dataframe tbody tr th {\n",
       "        vertical-align: top;\n",
       "    }\n",
       "\n",
       "    .dataframe thead th {\n",
       "        text-align: right;\n",
       "    }\n",
       "</style>\n",
       "<table border=\"1\" class=\"dataframe\">\n",
       "  <thead>\n",
       "    <tr style=\"text-align: right;\">\n",
       "      <th></th>\n",
       "      <th>empl_code</th>\n",
       "      <th>Bonus (USD)</th>\n",
       "      <th>Salary(USD)</th>\n",
       "      <th>Total_salary</th>\n",
       "    </tr>\n",
       "  </thead>\n",
       "  <tbody>\n",
       "    <tr>\n",
       "      <th>1</th>\n",
       "      <td>2</td>\n",
       "      <td>253</td>\n",
       "      <td>17688</td>\n",
       "      <td>17941</td>\n",
       "    </tr>\n",
       "    <tr>\n",
       "      <th>3</th>\n",
       "      <td>4</td>\n",
       "      <td>117</td>\n",
       "      <td>17170</td>\n",
       "      <td>17287</td>\n",
       "    </tr>\n",
       "    <tr>\n",
       "      <th>5</th>\n",
       "      <td>6</td>\n",
       "      <td>133</td>\n",
       "      <td>16184</td>\n",
       "      <td>16317</td>\n",
       "    </tr>\n",
       "    <tr>\n",
       "      <th>7</th>\n",
       "      <td>8</td>\n",
       "      <td>225</td>\n",
       "      <td>12036</td>\n",
       "      <td>12261</td>\n",
       "    </tr>\n",
       "    <tr>\n",
       "      <th>9</th>\n",
       "      <td>10</td>\n",
       "      <td>195</td>\n",
       "      <td>17335</td>\n",
       "      <td>17530</td>\n",
       "    </tr>\n",
       "    <tr>\n",
       "      <th>...</th>\n",
       "      <td>...</td>\n",
       "      <td>...</td>\n",
       "      <td>...</td>\n",
       "      <td>...</td>\n",
       "    </tr>\n",
       "    <tr>\n",
       "      <th>991</th>\n",
       "      <td>992</td>\n",
       "      <td>109</td>\n",
       "      <td>18248</td>\n",
       "      <td>18357</td>\n",
       "    </tr>\n",
       "    <tr>\n",
       "      <th>993</th>\n",
       "      <td>994</td>\n",
       "      <td>183</td>\n",
       "      <td>15384</td>\n",
       "      <td>15567</td>\n",
       "    </tr>\n",
       "    <tr>\n",
       "      <th>995</th>\n",
       "      <td>996</td>\n",
       "      <td>183</td>\n",
       "      <td>19947</td>\n",
       "      <td>20130</td>\n",
       "    </tr>\n",
       "    <tr>\n",
       "      <th>997</th>\n",
       "      <td>998</td>\n",
       "      <td>228</td>\n",
       "      <td>10800</td>\n",
       "      <td>11028</td>\n",
       "    </tr>\n",
       "    <tr>\n",
       "      <th>999</th>\n",
       "      <td>1000</td>\n",
       "      <td>142</td>\n",
       "      <td>18080</td>\n",
       "      <td>18222</td>\n",
       "    </tr>\n",
       "  </tbody>\n",
       "</table>\n",
       "<p>500 rows × 4 columns</p>\n",
       "</div>"
      ],
      "text/plain": [
       "     empl_code  Bonus (USD)  Salary(USD)  Total_salary \n",
       "1            2          253        17688          17941\n",
       "3            4          117        17170          17287\n",
       "5            6          133        16184          16317\n",
       "7            8          225        12036          12261\n",
       "9           10          195        17335          17530\n",
       "..         ...          ...          ...            ...\n",
       "991        992          109        18248          18357\n",
       "993        994          183        15384          15567\n",
       "995        996          183        19947          20130\n",
       "997        998          228        10800          11028\n",
       "999       1000          142        18080          18222\n",
       "\n",
       "[500 rows x 4 columns]"
      ]
     },
     "execution_count": 12,
     "metadata": {},
     "output_type": "execute_result"
    }
   ],
   "source": [
    "megacity[megacity['empl_code']%2 == 0]"
   ]
  },
  {
   "cell_type": "markdown",
   "id": "eadc890d",
   "metadata": {},
   "source": [
    "### Q-6) The company wishes to provide extra bonus of 200 USD to all the employees. How can you add 200 USD to each employee's bonus?\n",
    "\n",
    " "
   ]
  },
  {
   "cell_type": "code",
   "execution_count": 13,
   "id": "8ce33885",
   "metadata": {},
   "outputs": [],
   "source": [
    "megacity['Bonus (USD)'] = megacity['Bonus (USD)'] + 200"
   ]
  },
  {
   "cell_type": "code",
   "execution_count": 14,
   "id": "233f439b",
   "metadata": {},
   "outputs": [
    {
     "data": {
      "text/html": [
       "<div>\n",
       "<style scoped>\n",
       "    .dataframe tbody tr th:only-of-type {\n",
       "        vertical-align: middle;\n",
       "    }\n",
       "\n",
       "    .dataframe tbody tr th {\n",
       "        vertical-align: top;\n",
       "    }\n",
       "\n",
       "    .dataframe thead th {\n",
       "        text-align: right;\n",
       "    }\n",
       "</style>\n",
       "<table border=\"1\" class=\"dataframe\">\n",
       "  <thead>\n",
       "    <tr style=\"text-align: right;\">\n",
       "      <th></th>\n",
       "      <th>empl_code</th>\n",
       "      <th>Bonus (USD)</th>\n",
       "      <th>Salary(USD)</th>\n",
       "      <th>Total_salary</th>\n",
       "    </tr>\n",
       "  </thead>\n",
       "  <tbody>\n",
       "    <tr>\n",
       "      <th>0</th>\n",
       "      <td>1</td>\n",
       "      <td>302</td>\n",
       "      <td>18256</td>\n",
       "      <td>18358</td>\n",
       "    </tr>\n",
       "    <tr>\n",
       "      <th>1</th>\n",
       "      <td>2</td>\n",
       "      <td>453</td>\n",
       "      <td>17688</td>\n",
       "      <td>17941</td>\n",
       "    </tr>\n",
       "    <tr>\n",
       "      <th>2</th>\n",
       "      <td>3</td>\n",
       "      <td>323</td>\n",
       "      <td>17567</td>\n",
       "      <td>17690</td>\n",
       "    </tr>\n",
       "    <tr>\n",
       "      <th>3</th>\n",
       "      <td>4</td>\n",
       "      <td>317</td>\n",
       "      <td>17170</td>\n",
       "      <td>17287</td>\n",
       "    </tr>\n",
       "    <tr>\n",
       "      <th>4</th>\n",
       "      <td>5</td>\n",
       "      <td>325</td>\n",
       "      <td>11998</td>\n",
       "      <td>12123</td>\n",
       "    </tr>\n",
       "  </tbody>\n",
       "</table>\n",
       "</div>"
      ],
      "text/plain": [
       "   empl_code  Bonus (USD)  Salary(USD)  Total_salary \n",
       "0          1          302        18256          18358\n",
       "1          2          453        17688          17941\n",
       "2          3          323        17567          17690\n",
       "3          4          317        17170          17287\n",
       "4          5          325        11998          12123"
      ]
     },
     "execution_count": 14,
     "metadata": {},
     "output_type": "execute_result"
    }
   ],
   "source": [
    "megacity.head()"
   ]
  },
  {
   "cell_type": "markdown",
   "id": "1862b9be",
   "metadata": {},
   "source": [
    "###  Q-7) The HR wishes to know how many employees are getting salaries more than 15,000 USD per year. \n",
    "\n"
   ]
  },
  {
   "cell_type": "code",
   "execution_count": 15,
   "id": "56c6c93f",
   "metadata": {},
   "outputs": [
    {
     "name": "stdout",
     "output_type": "stream",
     "text": [
      "No. of employess who are getting salary greater tham 15000 USD are 500\n"
     ]
    }
   ],
   "source": [
    "grtr_15000 = megacity['Salary(USD)'][megacity['Salary(USD)']> 15000].count()\n",
    "print(f\"No. of employess who are getting salary greater tham 15000 USD are {grtr_15000}\")"
   ]
  },
  {
   "cell_type": "markdown",
   "id": "ce858f3a",
   "metadata": {},
   "source": [
    "### Q-8)The employees with the codes 5, 124, 200, 332, 420, 589, 665, 743, 887, and 901 like to resign.As per the policy, the company does not save the data of part-time employees once they have resigned. How can you delete these record/data of employees? Consider the array \"dup\" to contain a copy of the employee codes.\n",
    "\n",
    "\n",
    "  \n",
    " "
   ]
  },
  {
   "cell_type": "code",
   "execution_count": 16,
   "id": "6f4ca3fe",
   "metadata": {},
   "outputs": [],
   "source": [
    "dup = megacity.copy()"
   ]
  },
  {
   "cell_type": "code",
   "execution_count": 17,
   "id": "0bbc5bac",
   "metadata": {
    "scrolled": false
   },
   "outputs": [
    {
     "data": {
      "text/html": [
       "<div>\n",
       "<style scoped>\n",
       "    .dataframe tbody tr th:only-of-type {\n",
       "        vertical-align: middle;\n",
       "    }\n",
       "\n",
       "    .dataframe tbody tr th {\n",
       "        vertical-align: top;\n",
       "    }\n",
       "\n",
       "    .dataframe thead th {\n",
       "        text-align: right;\n",
       "    }\n",
       "</style>\n",
       "<table border=\"1\" class=\"dataframe\">\n",
       "  <thead>\n",
       "    <tr style=\"text-align: right;\">\n",
       "      <th></th>\n",
       "      <th>empl_code</th>\n",
       "      <th>Bonus (USD)</th>\n",
       "      <th>Salary(USD)</th>\n",
       "      <th>Total_salary</th>\n",
       "    </tr>\n",
       "  </thead>\n",
       "  <tbody>\n",
       "    <tr>\n",
       "      <th>0</th>\n",
       "      <td>1</td>\n",
       "      <td>302</td>\n",
       "      <td>18256</td>\n",
       "      <td>18358</td>\n",
       "    </tr>\n",
       "    <tr>\n",
       "      <th>1</th>\n",
       "      <td>2</td>\n",
       "      <td>453</td>\n",
       "      <td>17688</td>\n",
       "      <td>17941</td>\n",
       "    </tr>\n",
       "    <tr>\n",
       "      <th>2</th>\n",
       "      <td>3</td>\n",
       "      <td>323</td>\n",
       "      <td>17567</td>\n",
       "      <td>17690</td>\n",
       "    </tr>\n",
       "    <tr>\n",
       "      <th>3</th>\n",
       "      <td>4</td>\n",
       "      <td>317</td>\n",
       "      <td>17170</td>\n",
       "      <td>17287</td>\n",
       "    </tr>\n",
       "    <tr>\n",
       "      <th>4</th>\n",
       "      <td>5</td>\n",
       "      <td>325</td>\n",
       "      <td>11998</td>\n",
       "      <td>12123</td>\n",
       "    </tr>\n",
       "  </tbody>\n",
       "</table>\n",
       "</div>"
      ],
      "text/plain": [
       "   empl_code  Bonus (USD)  Salary(USD)  Total_salary \n",
       "0          1          302        18256          18358\n",
       "1          2          453        17688          17941\n",
       "2          3          323        17567          17690\n",
       "3          4          317        17170          17287\n",
       "4          5          325        11998          12123"
      ]
     },
     "execution_count": 17,
     "metadata": {},
     "output_type": "execute_result"
    }
   ],
   "source": [
    "dup.head()"
   ]
  },
  {
   "cell_type": "code",
   "execution_count": 18,
   "id": "57e1d575",
   "metadata": {},
   "outputs": [],
   "source": [
    "c_lst = [5,124,200,332,420,589,665,743,887,907]"
   ]
  },
  {
   "cell_type": "code",
   "execution_count": 19,
   "id": "023e97d1",
   "metadata": {},
   "outputs": [],
   "source": [
    "dup = dup[~dup['empl_code'].isin(c_lst)]"
   ]
  },
  {
   "cell_type": "code",
   "execution_count": 20,
   "id": "e718a95d",
   "metadata": {},
   "outputs": [
    {
     "data": {
      "text/html": [
       "<div>\n",
       "<style scoped>\n",
       "    .dataframe tbody tr th:only-of-type {\n",
       "        vertical-align: middle;\n",
       "    }\n",
       "\n",
       "    .dataframe tbody tr th {\n",
       "        vertical-align: top;\n",
       "    }\n",
       "\n",
       "    .dataframe thead th {\n",
       "        text-align: right;\n",
       "    }\n",
       "</style>\n",
       "<table border=\"1\" class=\"dataframe\">\n",
       "  <thead>\n",
       "    <tr style=\"text-align: right;\">\n",
       "      <th></th>\n",
       "      <th>empl_code</th>\n",
       "      <th>Bonus (USD)</th>\n",
       "      <th>Salary(USD)</th>\n",
       "      <th>Total_salary</th>\n",
       "    </tr>\n",
       "  </thead>\n",
       "  <tbody>\n",
       "    <tr>\n",
       "      <th>0</th>\n",
       "      <td>1</td>\n",
       "      <td>302</td>\n",
       "      <td>18256</td>\n",
       "      <td>18358</td>\n",
       "    </tr>\n",
       "    <tr>\n",
       "      <th>1</th>\n",
       "      <td>2</td>\n",
       "      <td>453</td>\n",
       "      <td>17688</td>\n",
       "      <td>17941</td>\n",
       "    </tr>\n",
       "    <tr>\n",
       "      <th>2</th>\n",
       "      <td>3</td>\n",
       "      <td>323</td>\n",
       "      <td>17567</td>\n",
       "      <td>17690</td>\n",
       "    </tr>\n",
       "    <tr>\n",
       "      <th>3</th>\n",
       "      <td>4</td>\n",
       "      <td>317</td>\n",
       "      <td>17170</td>\n",
       "      <td>17287</td>\n",
       "    </tr>\n",
       "    <tr>\n",
       "      <th>5</th>\n",
       "      <td>6</td>\n",
       "      <td>333</td>\n",
       "      <td>16184</td>\n",
       "      <td>16317</td>\n",
       "    </tr>\n",
       "    <tr>\n",
       "      <th>6</th>\n",
       "      <td>7</td>\n",
       "      <td>456</td>\n",
       "      <td>15350</td>\n",
       "      <td>15606</td>\n",
       "    </tr>\n",
       "    <tr>\n",
       "      <th>7</th>\n",
       "      <td>8</td>\n",
       "      <td>425</td>\n",
       "      <td>12036</td>\n",
       "      <td>12261</td>\n",
       "    </tr>\n",
       "    <tr>\n",
       "      <th>8</th>\n",
       "      <td>9</td>\n",
       "      <td>478</td>\n",
       "      <td>16451</td>\n",
       "      <td>16729</td>\n",
       "    </tr>\n",
       "    <tr>\n",
       "      <th>9</th>\n",
       "      <td>10</td>\n",
       "      <td>395</td>\n",
       "      <td>17335</td>\n",
       "      <td>17530</td>\n",
       "    </tr>\n",
       "    <tr>\n",
       "      <th>10</th>\n",
       "      <td>11</td>\n",
       "      <td>439</td>\n",
       "      <td>11832</td>\n",
       "      <td>12071</td>\n",
       "    </tr>\n",
       "  </tbody>\n",
       "</table>\n",
       "</div>"
      ],
      "text/plain": [
       "    empl_code  Bonus (USD)  Salary(USD)  Total_salary \n",
       "0           1          302        18256          18358\n",
       "1           2          453        17688          17941\n",
       "2           3          323        17567          17690\n",
       "3           4          317        17170          17287\n",
       "5           6          333        16184          16317\n",
       "6           7          456        15350          15606\n",
       "7           8          425        12036          12261\n",
       "8           9          478        16451          16729\n",
       "9          10          395        17335          17530\n",
       "10         11          439        11832          12071"
      ]
     },
     "execution_count": 20,
     "metadata": {},
     "output_type": "execute_result"
    }
   ],
   "source": [
    "dup.head(10)"
   ]
  },
  {
   "cell_type": "markdown",
   "id": "b2df69cf",
   "metadata": {},
   "source": [
    "### Q9) How will you check if the employee with employee id 5 is actually deleted or not?\n"
   ]
  },
  {
   "cell_type": "code",
   "execution_count": 21,
   "id": "17a8e8f8",
   "metadata": {},
   "outputs": [
    {
     "data": {
      "text/html": [
       "<div>\n",
       "<style scoped>\n",
       "    .dataframe tbody tr th:only-of-type {\n",
       "        vertical-align: middle;\n",
       "    }\n",
       "\n",
       "    .dataframe tbody tr th {\n",
       "        vertical-align: top;\n",
       "    }\n",
       "\n",
       "    .dataframe thead th {\n",
       "        text-align: right;\n",
       "    }\n",
       "</style>\n",
       "<table border=\"1\" class=\"dataframe\">\n",
       "  <thead>\n",
       "    <tr style=\"text-align: right;\">\n",
       "      <th></th>\n",
       "      <th>empl_code</th>\n",
       "      <th>Bonus (USD)</th>\n",
       "      <th>Salary(USD)</th>\n",
       "      <th>Total_salary</th>\n",
       "    </tr>\n",
       "  </thead>\n",
       "  <tbody>\n",
       "    <tr>\n",
       "      <th>0</th>\n",
       "      <td>1</td>\n",
       "      <td>302</td>\n",
       "      <td>18256</td>\n",
       "      <td>18358</td>\n",
       "    </tr>\n",
       "    <tr>\n",
       "      <th>1</th>\n",
       "      <td>2</td>\n",
       "      <td>453</td>\n",
       "      <td>17688</td>\n",
       "      <td>17941</td>\n",
       "    </tr>\n",
       "    <tr>\n",
       "      <th>2</th>\n",
       "      <td>3</td>\n",
       "      <td>323</td>\n",
       "      <td>17567</td>\n",
       "      <td>17690</td>\n",
       "    </tr>\n",
       "    <tr>\n",
       "      <th>3</th>\n",
       "      <td>4</td>\n",
       "      <td>317</td>\n",
       "      <td>17170</td>\n",
       "      <td>17287</td>\n",
       "    </tr>\n",
       "    <tr>\n",
       "      <th>5</th>\n",
       "      <td>6</td>\n",
       "      <td>333</td>\n",
       "      <td>16184</td>\n",
       "      <td>16317</td>\n",
       "    </tr>\n",
       "    <tr>\n",
       "      <th>6</th>\n",
       "      <td>7</td>\n",
       "      <td>456</td>\n",
       "      <td>15350</td>\n",
       "      <td>15606</td>\n",
       "    </tr>\n",
       "  </tbody>\n",
       "</table>\n",
       "</div>"
      ],
      "text/plain": [
       "   empl_code  Bonus (USD)  Salary(USD)  Total_salary \n",
       "0          1          302        18256          18358\n",
       "1          2          453        17688          17941\n",
       "2          3          323        17567          17690\n",
       "3          4          317        17170          17287\n",
       "5          6          333        16184          16317\n",
       "6          7          456        15350          15606"
      ]
     },
     "execution_count": 21,
     "metadata": {},
     "output_type": "execute_result"
    }
   ],
   "source": [
    "dup.head(6)"
   ]
  },
  {
   "cell_type": "code",
   "execution_count": 22,
   "id": "6cab0494",
   "metadata": {},
   "outputs": [
    {
     "data": {
      "text/html": [
       "<div>\n",
       "<style scoped>\n",
       "    .dataframe tbody tr th:only-of-type {\n",
       "        vertical-align: middle;\n",
       "    }\n",
       "\n",
       "    .dataframe tbody tr th {\n",
       "        vertical-align: top;\n",
       "    }\n",
       "\n",
       "    .dataframe thead th {\n",
       "        text-align: right;\n",
       "    }\n",
       "</style>\n",
       "<table border=\"1\" class=\"dataframe\">\n",
       "  <thead>\n",
       "    <tr style=\"text-align: right;\">\n",
       "      <th></th>\n",
       "      <th>empl_code</th>\n",
       "      <th>Bonus (USD)</th>\n",
       "      <th>Salary(USD)</th>\n",
       "      <th>Total_salary</th>\n",
       "    </tr>\n",
       "  </thead>\n",
       "  <tbody>\n",
       "  </tbody>\n",
       "</table>\n",
       "</div>"
      ],
      "text/plain": [
       "Empty DataFrame\n",
       "Columns: [empl_code, Bonus (USD), Salary(USD), Total_salary ]\n",
       "Index: []"
      ]
     },
     "execution_count": 22,
     "metadata": {},
     "output_type": "execute_result"
    }
   ],
   "source": [
    "dup[dup['empl_code']==5]"
   ]
  },
  {
   "cell_type": "markdown",
   "id": "0b21527f",
   "metadata": {},
   "source": [
    "### Q10)The array \"dup\" now has the employee IDs, after deleting a few employee ID. Delete the employees with employee codes 101 and 201.\n",
    "\n"
   ]
  },
  {
   "cell_type": "code",
   "execution_count": 23,
   "id": "7ab29c12",
   "metadata": {},
   "outputs": [],
   "source": [
    "d_lst = [101,201]"
   ]
  },
  {
   "cell_type": "code",
   "execution_count": 24,
   "id": "56b4c4c6",
   "metadata": {},
   "outputs": [],
   "source": [
    "dup = dup[~dup['empl_code'].isin(d_lst)]"
   ]
  },
  {
   "cell_type": "code",
   "execution_count": 25,
   "id": "77a784be",
   "metadata": {},
   "outputs": [
    {
     "data": {
      "text/html": [
       "<div>\n",
       "<style scoped>\n",
       "    .dataframe tbody tr th:only-of-type {\n",
       "        vertical-align: middle;\n",
       "    }\n",
       "\n",
       "    .dataframe tbody tr th {\n",
       "        vertical-align: top;\n",
       "    }\n",
       "\n",
       "    .dataframe thead th {\n",
       "        text-align: right;\n",
       "    }\n",
       "</style>\n",
       "<table border=\"1\" class=\"dataframe\">\n",
       "  <thead>\n",
       "    <tr style=\"text-align: right;\">\n",
       "      <th></th>\n",
       "      <th>empl_code</th>\n",
       "      <th>Bonus (USD)</th>\n",
       "      <th>Salary(USD)</th>\n",
       "      <th>Total_salary</th>\n",
       "    </tr>\n",
       "  </thead>\n",
       "  <tbody>\n",
       "  </tbody>\n",
       "</table>\n",
       "</div>"
      ],
      "text/plain": [
       "Empty DataFrame\n",
       "Columns: [empl_code, Bonus (USD), Salary(USD), Total_salary ]\n",
       "Index: []"
      ]
     },
     "execution_count": 25,
     "metadata": {},
     "output_type": "execute_result"
    }
   ],
   "source": [
    "dup[dup['empl_code']==101]"
   ]
  },
  {
   "cell_type": "code",
   "execution_count": 26,
   "id": "0bb70527",
   "metadata": {},
   "outputs": [
    {
     "data": {
      "text/html": [
       "<div>\n",
       "<style scoped>\n",
       "    .dataframe tbody tr th:only-of-type {\n",
       "        vertical-align: middle;\n",
       "    }\n",
       "\n",
       "    .dataframe tbody tr th {\n",
       "        vertical-align: top;\n",
       "    }\n",
       "\n",
       "    .dataframe thead th {\n",
       "        text-align: right;\n",
       "    }\n",
       "</style>\n",
       "<table border=\"1\" class=\"dataframe\">\n",
       "  <thead>\n",
       "    <tr style=\"text-align: right;\">\n",
       "      <th></th>\n",
       "      <th>empl_code</th>\n",
       "      <th>Bonus (USD)</th>\n",
       "      <th>Salary(USD)</th>\n",
       "      <th>Total_salary</th>\n",
       "    </tr>\n",
       "  </thead>\n",
       "  <tbody>\n",
       "  </tbody>\n",
       "</table>\n",
       "</div>"
      ],
      "text/plain": [
       "Empty DataFrame\n",
       "Columns: [empl_code, Bonus (USD), Salary(USD), Total_salary ]\n",
       "Index: []"
      ]
     },
     "execution_count": 26,
     "metadata": {},
     "output_type": "execute_result"
    }
   ],
   "source": [
    "dup[dup['empl_code']==201]"
   ]
  },
  {
   "cell_type": "markdown",
   "id": "ae4b1939",
   "metadata": {},
   "source": [
    "###  Q-11) The HR wants to hire 10 new employees, assign them the employee codes from 1001 to 1010,and add the data in the existing employee codes. How can you accomplish this task? Consider the array \"empl_code\" which originally contains the employee ID's\n",
    " \n"
   ]
  },
  {
   "cell_type": "code",
   "execution_count": 27,
   "id": "01c92a7f",
   "metadata": {},
   "outputs": [],
   "source": [
    "dct1 = {\"empl_code\":[1001, 1002, 1003, 1004, 1005, 1006, 1007, 1008, 1009, 1010],\n",
    "       \"Bonus (USD)\":[265, 262, 286, 296, 222, 261, 260, 205, 231, 275],\n",
    "       \"Salary(USD)\":[14992,19695,11898,16937,15308,18051,14415,18063,11153,10079],\n",
    "       }"
   ]
  },
  {
   "cell_type": "code",
   "execution_count": null,
   "id": "c02c8f4c",
   "metadata": {},
   "outputs": [],
   "source": []
  },
  {
   "cell_type": "code",
   "execution_count": 28,
   "id": "bbbea754",
   "metadata": {},
   "outputs": [],
   "source": [
    "new_empl = pd.DataFrame(dct1)"
   ]
  },
  {
   "cell_type": "code",
   "execution_count": 29,
   "id": "ef6509ba",
   "metadata": {
    "scrolled": true
   },
   "outputs": [
    {
     "data": {
      "text/html": [
       "<div>\n",
       "<style scoped>\n",
       "    .dataframe tbody tr th:only-of-type {\n",
       "        vertical-align: middle;\n",
       "    }\n",
       "\n",
       "    .dataframe tbody tr th {\n",
       "        vertical-align: top;\n",
       "    }\n",
       "\n",
       "    .dataframe thead th {\n",
       "        text-align: right;\n",
       "    }\n",
       "</style>\n",
       "<table border=\"1\" class=\"dataframe\">\n",
       "  <thead>\n",
       "    <tr style=\"text-align: right;\">\n",
       "      <th></th>\n",
       "      <th>empl_code</th>\n",
       "      <th>Bonus (USD)</th>\n",
       "      <th>Salary(USD)</th>\n",
       "    </tr>\n",
       "  </thead>\n",
       "  <tbody>\n",
       "    <tr>\n",
       "      <th>0</th>\n",
       "      <td>1001</td>\n",
       "      <td>265</td>\n",
       "      <td>14992</td>\n",
       "    </tr>\n",
       "    <tr>\n",
       "      <th>1</th>\n",
       "      <td>1002</td>\n",
       "      <td>262</td>\n",
       "      <td>19695</td>\n",
       "    </tr>\n",
       "    <tr>\n",
       "      <th>2</th>\n",
       "      <td>1003</td>\n",
       "      <td>286</td>\n",
       "      <td>11898</td>\n",
       "    </tr>\n",
       "    <tr>\n",
       "      <th>3</th>\n",
       "      <td>1004</td>\n",
       "      <td>296</td>\n",
       "      <td>16937</td>\n",
       "    </tr>\n",
       "    <tr>\n",
       "      <th>4</th>\n",
       "      <td>1005</td>\n",
       "      <td>222</td>\n",
       "      <td>15308</td>\n",
       "    </tr>\n",
       "  </tbody>\n",
       "</table>\n",
       "</div>"
      ],
      "text/plain": [
       "   empl_code  Bonus (USD)  Salary(USD)\n",
       "0       1001          265        14992\n",
       "1       1002          262        19695\n",
       "2       1003          286        11898\n",
       "3       1004          296        16937\n",
       "4       1005          222        15308"
      ]
     },
     "execution_count": 29,
     "metadata": {},
     "output_type": "execute_result"
    }
   ],
   "source": [
    "new_empl.head()"
   ]
  },
  {
   "cell_type": "code",
   "execution_count": 30,
   "id": "711ef233",
   "metadata": {},
   "outputs": [],
   "source": [
    "new_empl['Total_salary'] = new_empl['Bonus (USD)']+ new_empl['Salary(USD)']"
   ]
  },
  {
   "cell_type": "code",
   "execution_count": 31,
   "id": "1046073c",
   "metadata": {
    "scrolled": true
   },
   "outputs": [
    {
     "data": {
      "text/html": [
       "<div>\n",
       "<style scoped>\n",
       "    .dataframe tbody tr th:only-of-type {\n",
       "        vertical-align: middle;\n",
       "    }\n",
       "\n",
       "    .dataframe tbody tr th {\n",
       "        vertical-align: top;\n",
       "    }\n",
       "\n",
       "    .dataframe thead th {\n",
       "        text-align: right;\n",
       "    }\n",
       "</style>\n",
       "<table border=\"1\" class=\"dataframe\">\n",
       "  <thead>\n",
       "    <tr style=\"text-align: right;\">\n",
       "      <th></th>\n",
       "      <th>empl_code</th>\n",
       "      <th>Bonus (USD)</th>\n",
       "      <th>Salary(USD)</th>\n",
       "      <th>Total_salary</th>\n",
       "    </tr>\n",
       "  </thead>\n",
       "  <tbody>\n",
       "    <tr>\n",
       "      <th>0</th>\n",
       "      <td>1001</td>\n",
       "      <td>265</td>\n",
       "      <td>14992</td>\n",
       "      <td>15257</td>\n",
       "    </tr>\n",
       "    <tr>\n",
       "      <th>1</th>\n",
       "      <td>1002</td>\n",
       "      <td>262</td>\n",
       "      <td>19695</td>\n",
       "      <td>19957</td>\n",
       "    </tr>\n",
       "    <tr>\n",
       "      <th>2</th>\n",
       "      <td>1003</td>\n",
       "      <td>286</td>\n",
       "      <td>11898</td>\n",
       "      <td>12184</td>\n",
       "    </tr>\n",
       "    <tr>\n",
       "      <th>3</th>\n",
       "      <td>1004</td>\n",
       "      <td>296</td>\n",
       "      <td>16937</td>\n",
       "      <td>17233</td>\n",
       "    </tr>\n",
       "    <tr>\n",
       "      <th>4</th>\n",
       "      <td>1005</td>\n",
       "      <td>222</td>\n",
       "      <td>15308</td>\n",
       "      <td>15530</td>\n",
       "    </tr>\n",
       "  </tbody>\n",
       "</table>\n",
       "</div>"
      ],
      "text/plain": [
       "   empl_code  Bonus (USD)  Salary(USD)  Total_salary\n",
       "0       1001          265        14992         15257\n",
       "1       1002          262        19695         19957\n",
       "2       1003          286        11898         12184\n",
       "3       1004          296        16937         17233\n",
       "4       1005          222        15308         15530"
      ]
     },
     "execution_count": 31,
     "metadata": {},
     "output_type": "execute_result"
    }
   ],
   "source": [
    "new_empl.head()"
   ]
  },
  {
   "cell_type": "code",
   "execution_count": 32,
   "id": "9039a646",
   "metadata": {},
   "outputs": [
    {
     "data": {
      "text/plain": [
       "(988, 4)"
      ]
     },
     "execution_count": 32,
     "metadata": {},
     "output_type": "execute_result"
    }
   ],
   "source": [
    "dup.shape"
   ]
  },
  {
   "cell_type": "code",
   "execution_count": 33,
   "id": "8e5b3537",
   "metadata": {},
   "outputs": [
    {
     "data": {
      "text/plain": [
       "(10, 4)"
      ]
     },
     "execution_count": 33,
     "metadata": {},
     "output_type": "execute_result"
    }
   ],
   "source": [
    "new_empl.shape"
   ]
  },
  {
   "cell_type": "code",
   "execution_count": null,
   "id": "e3c43793",
   "metadata": {},
   "outputs": [],
   "source": []
  },
  {
   "cell_type": "code",
   "execution_count": null,
   "id": "1a50afc4",
   "metadata": {},
   "outputs": [],
   "source": []
  },
  {
   "cell_type": "code",
   "execution_count": null,
   "id": "6c98ebbe",
   "metadata": {},
   "outputs": [],
   "source": []
  }
 ],
 "metadata": {
  "kernelspec": {
   "display_name": "Python 3 (ipykernel)",
   "language": "python",
   "name": "python3"
  },
  "language_info": {
   "codemirror_mode": {
    "name": "ipython",
    "version": 3
   },
   "file_extension": ".py",
   "mimetype": "text/x-python",
   "name": "python",
   "nbconvert_exporter": "python",
   "pygments_lexer": "ipython3",
   "version": "3.9.12"
  }
 },
 "nbformat": 4,
 "nbformat_minor": 5
}
