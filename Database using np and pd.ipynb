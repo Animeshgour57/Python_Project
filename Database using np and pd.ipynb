{
 "cells": [
  {
   "cell_type": "markdown",
   "id": "8cef3462",
   "metadata": {},
   "source": [
    "# Project using Numpy and Pandas libraries in Python "
   ]
  },
  {
   "cell_type": "code",
   "execution_count": 48,
   "id": "bb9eb871",
   "metadata": {},
   "outputs": [],
   "source": [
    "# In this project , I am solving various questions to accomplish this project .\n",
    "# for accomplish this project , I have "
   ]
  },
  {
   "cell_type": "code",
   "execution_count": 2,
   "id": "38cb7138",
   "metadata": {},
   "outputs": [],
   "source": [
    "### importing numpy and pandas librries \n",
    "import numpy as np \n",
    "import pandas as pd"
   ]
  },
  {
   "cell_type": "code",
   "execution_count": null,
   "id": "5c92130e",
   "metadata": {},
   "outputs": [],
   "source": []
  },
  {
   "cell_type": "raw",
   "id": "349b835b",
   "metadata": {},
   "source": [
    " Q-1) MegaCity Builders is a construction company. They seek the help of their data analyst \n",
    "   to generate employee codes from 1 to 1,000 for their part-time work force, \n",
    "   as they are not interested in the RDBMS solution."
   ]
  },
  {
   "cell_type": "code",
   "execution_count": 4,
   "id": "7b0d04c0",
   "metadata": {},
   "outputs": [],
   "source": [
    "megacity = pd.DataFrame()"
   ]
  },
  {
   "cell_type": "code",
   "execution_count": 5,
   "id": "932de921",
   "metadata": {},
   "outputs": [],
   "source": [
    "megacity['empl_code'] = np.arange(1,1001)"
   ]
  },
  {
   "cell_type": "code",
   "execution_count": 6,
   "id": "15681586",
   "metadata": {},
   "outputs": [
    {
     "data": {
      "text/html": [
       "<div>\n",
       "<style scoped>\n",
       "    .dataframe tbody tr th:only-of-type {\n",
       "        vertical-align: middle;\n",
       "    }\n",
       "\n",
       "    .dataframe tbody tr th {\n",
       "        vertical-align: top;\n",
       "    }\n",
       "\n",
       "    .dataframe thead th {\n",
       "        text-align: right;\n",
       "    }\n",
       "</style>\n",
       "<table border=\"1\" class=\"dataframe\">\n",
       "  <thead>\n",
       "    <tr style=\"text-align: right;\">\n",
       "      <th></th>\n",
       "      <th>empl_code</th>\n",
       "    </tr>\n",
       "  </thead>\n",
       "  <tbody>\n",
       "    <tr>\n",
       "      <th>0</th>\n",
       "      <td>1</td>\n",
       "    </tr>\n",
       "    <tr>\n",
       "      <th>1</th>\n",
       "      <td>2</td>\n",
       "    </tr>\n",
       "    <tr>\n",
       "      <th>2</th>\n",
       "      <td>3</td>\n",
       "    </tr>\n",
       "    <tr>\n",
       "      <th>3</th>\n",
       "      <td>4</td>\n",
       "    </tr>\n",
       "    <tr>\n",
       "      <th>4</th>\n",
       "      <td>5</td>\n",
       "    </tr>\n",
       "  </tbody>\n",
       "</table>\n",
       "</div>"
      ],
      "text/plain": [
       "   empl_code\n",
       "0          1\n",
       "1          2\n",
       "2          3\n",
       "3          4\n",
       "4          5"
      ]
     },
     "execution_count": 6,
     "metadata": {},
     "output_type": "execute_result"
    }
   ],
   "source": [
    "megacity.head()"
   ]
  },
  {
   "cell_type": "raw",
   "id": "f3bb9e9a",
   "metadata": {},
   "source": [
    "Q-2) \n",
    " The company decides to give cash bonus to its employees on Christmas.  How can you generate the \n",
    "  random bonus amounts ranging from 100 USD to 300 USD for the 1,000 employees?\n"
   ]
  },
  {
   "cell_type": "code",
   "execution_count": null,
   "id": "b99b97d8",
   "metadata": {},
   "outputs": [],
   "source": []
  },
  {
   "cell_type": "code",
   "execution_count": 8,
   "id": "bc8877a5",
   "metadata": {},
   "outputs": [],
   "source": [
    "megacity['Bonus (USD)'] = np.random.randint(100,300,1000)"
   ]
  },
  {
   "cell_type": "code",
   "execution_count": 9,
   "id": "974af06f",
   "metadata": {},
   "outputs": [
    {
     "data": {
      "text/html": [
       "<div>\n",
       "<style scoped>\n",
       "    .dataframe tbody tr th:only-of-type {\n",
       "        vertical-align: middle;\n",
       "    }\n",
       "\n",
       "    .dataframe tbody tr th {\n",
       "        vertical-align: top;\n",
       "    }\n",
       "\n",
       "    .dataframe thead th {\n",
       "        text-align: right;\n",
       "    }\n",
       "</style>\n",
       "<table border=\"1\" class=\"dataframe\">\n",
       "  <thead>\n",
       "    <tr style=\"text-align: right;\">\n",
       "      <th></th>\n",
       "      <th>empl_code</th>\n",
       "      <th>Bonus (USD)</th>\n",
       "    </tr>\n",
       "  </thead>\n",
       "  <tbody>\n",
       "    <tr>\n",
       "      <th>0</th>\n",
       "      <td>1</td>\n",
       "      <td>195</td>\n",
       "    </tr>\n",
       "    <tr>\n",
       "      <th>1</th>\n",
       "      <td>2</td>\n",
       "      <td>118</td>\n",
       "    </tr>\n",
       "    <tr>\n",
       "      <th>2</th>\n",
       "      <td>3</td>\n",
       "      <td>137</td>\n",
       "    </tr>\n",
       "    <tr>\n",
       "      <th>3</th>\n",
       "      <td>4</td>\n",
       "      <td>243</td>\n",
       "    </tr>\n",
       "    <tr>\n",
       "      <th>4</th>\n",
       "      <td>5</td>\n",
       "      <td>206</td>\n",
       "    </tr>\n",
       "  </tbody>\n",
       "</table>\n",
       "</div>"
      ],
      "text/plain": [
       "   empl_code  Bonus (USD)\n",
       "0          1          195\n",
       "1          2          118\n",
       "2          3          137\n",
       "3          4          243\n",
       "4          5          206"
      ]
     },
     "execution_count": 9,
     "metadata": {},
     "output_type": "execute_result"
    }
   ],
   "source": [
    "megacity.head()"
   ]
  },
  {
   "cell_type": "raw",
   "id": "af1077ed",
   "metadata": {},
   "source": [
    "Q-3) \n",
    "MegaCity builders has a total of 1,000 part-time employees. The annual salary of these employees \n",
    "lies between 10,000 USD to 20,000 USD. The company wishes to find the average annual salary of employees. "
   ]
  },
  {
   "cell_type": "code",
   "execution_count": 11,
   "id": "9a10e375",
   "metadata": {},
   "outputs": [],
   "source": [
    "megacity['Salary(USD)'] = np.random.randint(10000,20000,1000)"
   ]
  },
  {
   "cell_type": "code",
   "execution_count": 12,
   "id": "a876391c",
   "metadata": {},
   "outputs": [
    {
     "data": {
      "text/html": [
       "<div>\n",
       "<style scoped>\n",
       "    .dataframe tbody tr th:only-of-type {\n",
       "        vertical-align: middle;\n",
       "    }\n",
       "\n",
       "    .dataframe tbody tr th {\n",
       "        vertical-align: top;\n",
       "    }\n",
       "\n",
       "    .dataframe thead th {\n",
       "        text-align: right;\n",
       "    }\n",
       "</style>\n",
       "<table border=\"1\" class=\"dataframe\">\n",
       "  <thead>\n",
       "    <tr style=\"text-align: right;\">\n",
       "      <th></th>\n",
       "      <th>empl_code</th>\n",
       "      <th>Bonus (USD)</th>\n",
       "      <th>Salary(USD)</th>\n",
       "    </tr>\n",
       "  </thead>\n",
       "  <tbody>\n",
       "    <tr>\n",
       "      <th>0</th>\n",
       "      <td>1</td>\n",
       "      <td>195</td>\n",
       "      <td>11237</td>\n",
       "    </tr>\n",
       "    <tr>\n",
       "      <th>1</th>\n",
       "      <td>2</td>\n",
       "      <td>118</td>\n",
       "      <td>14688</td>\n",
       "    </tr>\n",
       "    <tr>\n",
       "      <th>2</th>\n",
       "      <td>3</td>\n",
       "      <td>137</td>\n",
       "      <td>18194</td>\n",
       "    </tr>\n",
       "    <tr>\n",
       "      <th>3</th>\n",
       "      <td>4</td>\n",
       "      <td>243</td>\n",
       "      <td>17823</td>\n",
       "    </tr>\n",
       "    <tr>\n",
       "      <th>4</th>\n",
       "      <td>5</td>\n",
       "      <td>206</td>\n",
       "      <td>15047</td>\n",
       "    </tr>\n",
       "  </tbody>\n",
       "</table>\n",
       "</div>"
      ],
      "text/plain": [
       "   empl_code  Bonus (USD)  Salary(USD)\n",
       "0          1          195        11237\n",
       "1          2          118        14688\n",
       "2          3          137        18194\n",
       "3          4          243        17823\n",
       "4          5          206        15047"
      ]
     },
     "execution_count": 12,
     "metadata": {},
     "output_type": "execute_result"
    }
   ],
   "source": [
    "megacity.head()"
   ]
  },
  {
   "cell_type": "code",
   "execution_count": 14,
   "id": "4cc28c76",
   "metadata": {
    "scrolled": true
   },
   "outputs": [
    {
     "name": "stdout",
     "output_type": "stream",
     "text": [
      "Average salary of all the employees of megacity is USD 14992.269\n"
     ]
    }
   ],
   "source": [
    "avg_salary = megacity['Salary(USD)'].mean()\n",
    "print(f\"Average salary of all the employees of megacity is USD {avg_salary}\")"
   ]
  },
  {
   "cell_type": "code",
   "execution_count": null,
   "id": "2cf80048",
   "metadata": {},
   "outputs": [],
   "source": []
  },
  {
   "cell_type": "raw",
   "id": "328dadbf",
   "metadata": {},
   "source": [
    " Q-4) Print the salaries of all the employees with the bonuses included."
   ]
  },
  {
   "cell_type": "code",
   "execution_count": 15,
   "id": "dd89fa2f",
   "metadata": {},
   "outputs": [],
   "source": [
    "megacity['Total_salary '] = megacity['Bonus (USD)'] + megacity['Salary(USD)']"
   ]
  },
  {
   "cell_type": "code",
   "execution_count": 16,
   "id": "3b0e7724",
   "metadata": {
    "scrolled": true
   },
   "outputs": [
    {
     "data": {
      "text/html": [
       "<div>\n",
       "<style scoped>\n",
       "    .dataframe tbody tr th:only-of-type {\n",
       "        vertical-align: middle;\n",
       "    }\n",
       "\n",
       "    .dataframe tbody tr th {\n",
       "        vertical-align: top;\n",
       "    }\n",
       "\n",
       "    .dataframe thead th {\n",
       "        text-align: right;\n",
       "    }\n",
       "</style>\n",
       "<table border=\"1\" class=\"dataframe\">\n",
       "  <thead>\n",
       "    <tr style=\"text-align: right;\">\n",
       "      <th></th>\n",
       "      <th>empl_code</th>\n",
       "      <th>Bonus (USD)</th>\n",
       "      <th>Salary(USD)</th>\n",
       "      <th>Total_salary</th>\n",
       "    </tr>\n",
       "  </thead>\n",
       "  <tbody>\n",
       "    <tr>\n",
       "      <th>0</th>\n",
       "      <td>1</td>\n",
       "      <td>195</td>\n",
       "      <td>11237</td>\n",
       "      <td>11432</td>\n",
       "    </tr>\n",
       "    <tr>\n",
       "      <th>1</th>\n",
       "      <td>2</td>\n",
       "      <td>118</td>\n",
       "      <td>14688</td>\n",
       "      <td>14806</td>\n",
       "    </tr>\n",
       "    <tr>\n",
       "      <th>2</th>\n",
       "      <td>3</td>\n",
       "      <td>137</td>\n",
       "      <td>18194</td>\n",
       "      <td>18331</td>\n",
       "    </tr>\n",
       "    <tr>\n",
       "      <th>3</th>\n",
       "      <td>4</td>\n",
       "      <td>243</td>\n",
       "      <td>17823</td>\n",
       "      <td>18066</td>\n",
       "    </tr>\n",
       "    <tr>\n",
       "      <th>4</th>\n",
       "      <td>5</td>\n",
       "      <td>206</td>\n",
       "      <td>15047</td>\n",
       "      <td>15253</td>\n",
       "    </tr>\n",
       "  </tbody>\n",
       "</table>\n",
       "</div>"
      ],
      "text/plain": [
       "   empl_code  Bonus (USD)  Salary(USD)  Total_salary \n",
       "0          1          195        11237          11432\n",
       "1          2          118        14688          14806\n",
       "2          3          137        18194          18331\n",
       "3          4          243        17823          18066\n",
       "4          5          206        15047          15253"
      ]
     },
     "execution_count": 16,
     "metadata": {},
     "output_type": "execute_result"
    }
   ],
   "source": [
    "megacity.head()"
   ]
  },
  {
   "cell_type": "code",
   "execution_count": null,
   "id": "a0ffdb0c",
   "metadata": {},
   "outputs": [],
   "source": []
  },
  {
   "cell_type": "raw",
   "id": "5dd9940f",
   "metadata": {},
   "source": [
    "Q-5) \n",
    "The HR of MegaCity Builders wishes to print those employee IDs that even number."
   ]
  },
  {
   "cell_type": "code",
   "execution_count": 21,
   "id": "3e776518",
   "metadata": {},
   "outputs": [
    {
     "data": {
      "text/html": [
       "<div>\n",
       "<style scoped>\n",
       "    .dataframe tbody tr th:only-of-type {\n",
       "        vertical-align: middle;\n",
       "    }\n",
       "\n",
       "    .dataframe tbody tr th {\n",
       "        vertical-align: top;\n",
       "    }\n",
       "\n",
       "    .dataframe thead th {\n",
       "        text-align: right;\n",
       "    }\n",
       "</style>\n",
       "<table border=\"1\" class=\"dataframe\">\n",
       "  <thead>\n",
       "    <tr style=\"text-align: right;\">\n",
       "      <th></th>\n",
       "      <th>empl_code</th>\n",
       "      <th>Bonus (USD)</th>\n",
       "      <th>Salary(USD)</th>\n",
       "      <th>Total_salary</th>\n",
       "    </tr>\n",
       "  </thead>\n",
       "  <tbody>\n",
       "    <tr>\n",
       "      <th>1</th>\n",
       "      <td>2</td>\n",
       "      <td>118</td>\n",
       "      <td>14688</td>\n",
       "      <td>14806</td>\n",
       "    </tr>\n",
       "    <tr>\n",
       "      <th>3</th>\n",
       "      <td>4</td>\n",
       "      <td>243</td>\n",
       "      <td>17823</td>\n",
       "      <td>18066</td>\n",
       "    </tr>\n",
       "    <tr>\n",
       "      <th>5</th>\n",
       "      <td>6</td>\n",
       "      <td>173</td>\n",
       "      <td>14020</td>\n",
       "      <td>14193</td>\n",
       "    </tr>\n",
       "    <tr>\n",
       "      <th>7</th>\n",
       "      <td>8</td>\n",
       "      <td>296</td>\n",
       "      <td>14109</td>\n",
       "      <td>14405</td>\n",
       "    </tr>\n",
       "    <tr>\n",
       "      <th>9</th>\n",
       "      <td>10</td>\n",
       "      <td>286</td>\n",
       "      <td>15522</td>\n",
       "      <td>15808</td>\n",
       "    </tr>\n",
       "    <tr>\n",
       "      <th>...</th>\n",
       "      <td>...</td>\n",
       "      <td>...</td>\n",
       "      <td>...</td>\n",
       "      <td>...</td>\n",
       "    </tr>\n",
       "    <tr>\n",
       "      <th>991</th>\n",
       "      <td>992</td>\n",
       "      <td>119</td>\n",
       "      <td>14799</td>\n",
       "      <td>14918</td>\n",
       "    </tr>\n",
       "    <tr>\n",
       "      <th>993</th>\n",
       "      <td>994</td>\n",
       "      <td>198</td>\n",
       "      <td>12800</td>\n",
       "      <td>12998</td>\n",
       "    </tr>\n",
       "    <tr>\n",
       "      <th>995</th>\n",
       "      <td>996</td>\n",
       "      <td>269</td>\n",
       "      <td>18446</td>\n",
       "      <td>18715</td>\n",
       "    </tr>\n",
       "    <tr>\n",
       "      <th>997</th>\n",
       "      <td>998</td>\n",
       "      <td>255</td>\n",
       "      <td>16855</td>\n",
       "      <td>17110</td>\n",
       "    </tr>\n",
       "    <tr>\n",
       "      <th>999</th>\n",
       "      <td>1000</td>\n",
       "      <td>225</td>\n",
       "      <td>13684</td>\n",
       "      <td>13909</td>\n",
       "    </tr>\n",
       "  </tbody>\n",
       "</table>\n",
       "<p>500 rows × 4 columns</p>\n",
       "</div>"
      ],
      "text/plain": [
       "     empl_code  Bonus (USD)  Salary(USD)  Total_salary \n",
       "1            2          118        14688          14806\n",
       "3            4          243        17823          18066\n",
       "5            6          173        14020          14193\n",
       "7            8          296        14109          14405\n",
       "9           10          286        15522          15808\n",
       "..         ...          ...          ...            ...\n",
       "991        992          119        14799          14918\n",
       "993        994          198        12800          12998\n",
       "995        996          269        18446          18715\n",
       "997        998          255        16855          17110\n",
       "999       1000          225        13684          13909\n",
       "\n",
       "[500 rows x 4 columns]"
      ]
     },
     "execution_count": 21,
     "metadata": {},
     "output_type": "execute_result"
    }
   ],
   "source": [
    "megacity[megacity['empl_code']%2 == 0]"
   ]
  },
  {
   "cell_type": "raw",
   "id": "68a95501",
   "metadata": {},
   "source": [
    "Q-6) \n",
    " The company wishes to provide extra bonus of 200 USD to all the employees. How can you add 200 USD to each employee's bonus?\n"
   ]
  },
  {
   "cell_type": "code",
   "execution_count": 24,
   "id": "8ce33885",
   "metadata": {},
   "outputs": [],
   "source": [
    "megacity['Bonus (USD)'] = megacity['Bonus (USD)'] + 200"
   ]
  },
  {
   "cell_type": "code",
   "execution_count": 25,
   "id": "233f439b",
   "metadata": {},
   "outputs": [
    {
     "data": {
      "text/html": [
       "<div>\n",
       "<style scoped>\n",
       "    .dataframe tbody tr th:only-of-type {\n",
       "        vertical-align: middle;\n",
       "    }\n",
       "\n",
       "    .dataframe tbody tr th {\n",
       "        vertical-align: top;\n",
       "    }\n",
       "\n",
       "    .dataframe thead th {\n",
       "        text-align: right;\n",
       "    }\n",
       "</style>\n",
       "<table border=\"1\" class=\"dataframe\">\n",
       "  <thead>\n",
       "    <tr style=\"text-align: right;\">\n",
       "      <th></th>\n",
       "      <th>empl_code</th>\n",
       "      <th>Bonus (USD)</th>\n",
       "      <th>Salary(USD)</th>\n",
       "      <th>Total_salary</th>\n",
       "    </tr>\n",
       "  </thead>\n",
       "  <tbody>\n",
       "    <tr>\n",
       "      <th>0</th>\n",
       "      <td>1</td>\n",
       "      <td>395</td>\n",
       "      <td>11237</td>\n",
       "      <td>11432</td>\n",
       "    </tr>\n",
       "    <tr>\n",
       "      <th>1</th>\n",
       "      <td>2</td>\n",
       "      <td>318</td>\n",
       "      <td>14688</td>\n",
       "      <td>14806</td>\n",
       "    </tr>\n",
       "    <tr>\n",
       "      <th>2</th>\n",
       "      <td>3</td>\n",
       "      <td>337</td>\n",
       "      <td>18194</td>\n",
       "      <td>18331</td>\n",
       "    </tr>\n",
       "    <tr>\n",
       "      <th>3</th>\n",
       "      <td>4</td>\n",
       "      <td>443</td>\n",
       "      <td>17823</td>\n",
       "      <td>18066</td>\n",
       "    </tr>\n",
       "    <tr>\n",
       "      <th>4</th>\n",
       "      <td>5</td>\n",
       "      <td>406</td>\n",
       "      <td>15047</td>\n",
       "      <td>15253</td>\n",
       "    </tr>\n",
       "  </tbody>\n",
       "</table>\n",
       "</div>"
      ],
      "text/plain": [
       "   empl_code  Bonus (USD)  Salary(USD)  Total_salary \n",
       "0          1          395        11237          11432\n",
       "1          2          318        14688          14806\n",
       "2          3          337        18194          18331\n",
       "3          4          443        17823          18066\n",
       "4          5          406        15047          15253"
      ]
     },
     "execution_count": 25,
     "metadata": {},
     "output_type": "execute_result"
    }
   ],
   "source": [
    "megacity.head()"
   ]
  },
  {
   "cell_type": "raw",
   "id": "c0846439",
   "metadata": {},
   "source": [
    " Q-7) \n",
    " The HR wishes to know how many employees are getting salaries more than 15,000 USD per year. \n"
   ]
  },
  {
   "cell_type": "code",
   "execution_count": 32,
   "id": "56c6c93f",
   "metadata": {},
   "outputs": [
    {
     "name": "stdout",
     "output_type": "stream",
     "text": [
      "No. of employess who are getting salary greater tham 15000 USD are 485\n"
     ]
    }
   ],
   "source": [
    "grtr_15000 = megacity['Salary(USD)'][megacity['Salary(USD)']> 15000].count()\n",
    "print(f\"No. of employess who are getting salary greater tham 15000 USD are {grtr_15000}\")"
   ]
  },
  {
   "cell_type": "code",
   "execution_count": 33,
   "id": "6547f887",
   "metadata": {},
   "outputs": [],
   "source": [
    "# Q-8) \n",
    "## The employees with the codes 5, 124, 200, 332, 420, 589, 665, 743, 887, and 901 like to resign.\n",
    "# As per the policy, the company does not save the data of part-time employees once they have resigned. \n",
    "#  How can you delete these record/data of employees? Consider the array \"dup\" to contain a copy of the employee codes."
   ]
  },
  {
   "cell_type": "code",
   "execution_count": 49,
   "id": "6f4ca3fe",
   "metadata": {},
   "outputs": [],
   "source": [
    "# i = megacity['empl_code'][megacity.empl_code == 5].index"
   ]
  },
  {
   "cell_type": "code",
   "execution_count": 46,
   "id": "0bbc5bac",
   "metadata": {},
   "outputs": [
    {
     "data": {
      "text/plain": [
       "Int64Index([4], dtype='int64')"
      ]
     },
     "execution_count": 46,
     "metadata": {},
     "output_type": "execute_result"
    }
   ],
   "source": [
    "i"
   ]
  },
  {
   "cell_type": "code",
   "execution_count": null,
   "id": "e718a95d",
   "metadata": {},
   "outputs": [],
   "source": []
  }
 ],
 "metadata": {
  "kernelspec": {
   "display_name": "Python 3 (ipykernel)",
   "language": "python",
   "name": "python3"
  },
  "language_info": {
   "codemirror_mode": {
    "name": "ipython",
    "version": 3
   },
   "file_extension": ".py",
   "mimetype": "text/x-python",
   "name": "python",
   "nbconvert_exporter": "python",
   "pygments_lexer": "ipython3",
   "version": "3.9.12"
  }
 },
 "nbformat": 4,
 "nbformat_minor": 5
}
