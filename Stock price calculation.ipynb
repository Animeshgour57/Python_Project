{
 "cells": [
  {
   "cell_type": "markdown",
   "id": "ea24e870",
   "metadata": {},
   "source": [
    "## Average,Total Amount spend calculation ..."
   ]
  },
  {
   "cell_type": "code",
   "execution_count": null,
   "id": "ec922e6b",
   "metadata": {
    "scrolled": true
   },
   "outputs": [],
   "source": []
  },
  {
   "cell_type": "markdown",
   "id": "a9b32dba",
   "metadata": {},
   "source": [
    "## This is for Buying the fixed no. of Shares ."
   ]
  },
  {
   "cell_type": "code",
   "execution_count": 1,
   "id": "b97618db",
   "metadata": {},
   "outputs": [],
   "source": [
    "def avg():\n",
    "    avg_p = float(input(\"Average price of your all stocks :\"))\n",
    "    q = float(input(\"No. of shares you have? \"))\n",
    "    cp = float(input(\"current price of your stock :\"))\n",
    "    x = float(input(\"No. of stocks you want to buy :\"))\n",
    "    print(\"*\"*25)\n",
    "    \n",
    "    a = (((avg_p*q)+(cp*x))/(q+x))\n",
    "    b = x*cp\n",
    "    print(f\"Average of your stocks will be----- {a}\")\n",
    "    print(\"*\"*25)\n",
    "    print(f\" Actual Amount you will be spend is------ {b}\")"
   ]
  },
  {
   "cell_type": "code",
   "execution_count": 8,
   "id": "f1b0cfee",
   "metadata": {
    "scrolled": false
   },
   "outputs": [
    {
     "name": "stdout",
     "output_type": "stream",
     "text": [
      "Average price of your all stocks :218.71\n",
      "No. of shares you have? 317\n",
      "current price of your stock :198.20\n",
      "No. of stocks you want to buy :183\n",
      "*************************\n",
      "Average of your stocks will be----- 211.20334000000003\n",
      "*************************\n",
      " Actual Amount you will be spend is------ 36270.6\n"
     ]
    }
   ],
   "source": [
    "avg()"
   ]
  },
  {
   "cell_type": "code",
   "execution_count": null,
   "id": "833ae707",
   "metadata": {},
   "outputs": [],
   "source": []
  },
  {
   "cell_type": "markdown",
   "id": "37b2ea42",
   "metadata": {},
   "source": [
    "## This for Averaging to a particular amount."
   ]
  },
  {
   "cell_type": "code",
   "execution_count": 3,
   "id": "bd04222e",
   "metadata": {},
   "outputs": [],
   "source": [
    "def avg1():\n",
    "    avg_p = float(input(\"Average price of your all stocks :\"))\n",
    "    q = float(input(\"No. of shares you have? \"))\n",
    "    cp = float(input(\"current price of your stock :\"))\n",
    "    a = float(input(\"Average of your stocks should be  :\"))\n",
    "    print(\"*\"*25)\n",
    "    \n",
    "    x = (((avg_p*q)-(a*q))/(a-cp))\n",
    "    b = x*cp\n",
    "    print(f\"Nunber of share you should buy ----- {x}\")\n",
    "    print(\"*\"*25)\n",
    "    print(f\" Actual Amount you will be spend is------ {b}\")"
   ]
  },
  {
   "cell_type": "code",
   "execution_count": 10,
   "id": "86bb9b7b",
   "metadata": {
    "scrolled": true
   },
   "outputs": [
    {
     "name": "stdout",
     "output_type": "stream",
     "text": [
      "Average price of your all stocks :218.71\n",
      "No. of shares you have? 317\n",
      "current price of your stock :198.20\n",
      "Average of your stocks should be  :210\n",
      "*************************\n",
      "Nunber of share you should buy ----- 233.98898305084782\n",
      "*************************\n",
      " Actual Amount you will be spend is------ 46376.61644067804\n"
     ]
    }
   ],
   "source": [
    "avg1()"
   ]
  },
  {
   "cell_type": "code",
   "execution_count": null,
   "id": "4bd4608a",
   "metadata": {},
   "outputs": [],
   "source": []
  },
  {
   "cell_type": "markdown",
   "id": "d099bdfc",
   "metadata": {},
   "source": [
    "## This is for Buying the stocks of Fixed Amount."
   ]
  },
  {
   "cell_type": "code",
   "execution_count": 5,
   "id": "bb95b3a7",
   "metadata": {},
   "outputs": [],
   "source": [
    "def amount():\n",
    "    avg_p = float(input(\"Average price of your all stocks :\"))\n",
    "    q = float(input(\"No. of shares you have? \"))\n",
    "    cp = float(input(\"current price of your stock :\"))\n",
    "    amt = float(input(\"Amount of money you want to spend :\"))\n",
    "    print(\"*\"*25)\n",
    "    x = amt//cp\n",
    "    \n",
    "    a = (((avg_p*q)+(cp*x))/(q+x))\n",
    "    t = x+q\n",
    "    b = t * a\n",
    "    print(f\"No. of shares you can buy ----- {x}\")\n",
    "    print(\"*\"*25)\n",
    "    print(f\"Average of your stocks will be----- {a}\")\n",
    "    print(\"*\"*25)\n",
    "    print(f\"Total no. of share you will have----- {t}\")\n",
    "    print(\"*\"*25)\n",
    "    print(f\" Total invested amount will be ------ {b}\")"
   ]
  },
  {
   "cell_type": "code",
   "execution_count": 11,
   "id": "3ce772ed",
   "metadata": {},
   "outputs": [
    {
     "name": "stdout",
     "output_type": "stream",
     "text": [
      "Average price of your all stocks :218.71\n",
      "No. of shares you have? 317\n",
      "current price of your stock :198.20\n",
      "Amount of money you want to spend :50000\n",
      "*************************\n",
      "No. of shares you can buy ----- 252.0\n",
      "*************************\n",
      "Average of your stocks will be----- 209.62648506151143\n",
      "*************************\n",
      "Total no. of share you will have----- 569.0\n",
      "*************************\n",
      " Total invested amount will be ------ 119277.47\n"
     ]
    }
   ],
   "source": [
    "amount()"
   ]
  },
  {
   "cell_type": "code",
   "execution_count": null,
   "id": "0c8c2956",
   "metadata": {},
   "outputs": [],
   "source": []
  },
  {
   "cell_type": "code",
   "execution_count": null,
   "id": "7416bcc8",
   "metadata": {},
   "outputs": [],
   "source": []
  },
  {
   "cell_type": "code",
   "execution_count": null,
   "id": "1c5e7c9b",
   "metadata": {},
   "outputs": [],
   "source": []
  },
  {
   "cell_type": "code",
   "execution_count": null,
   "id": "c562461e",
   "metadata": {},
   "outputs": [],
   "source": []
  },
  {
   "cell_type": "code",
   "execution_count": null,
   "id": "19de5d4f",
   "metadata": {},
   "outputs": [],
   "source": []
  },
  {
   "cell_type": "code",
   "execution_count": null,
   "id": "39c909aa",
   "metadata": {},
   "outputs": [],
   "source": []
  },
  {
   "cell_type": "code",
   "execution_count": 12,
   "id": "517e13c3",
   "metadata": {},
   "outputs": [
    {
     "name": "stdout",
     "output_type": "stream",
     "text": [
      "----------------------Press 1 for Buy the fixed no. of Shares \n",
      "                 -----Press 2 for Doing the average of Your choice \n",
      "                 -----Press 3 to Buy Shares of fixed amount 3\n",
      "Average price of your all stocks :218.71\n",
      "No. of shares you have? 317\n",
      "current price of your stock :198.20\n",
      "Amount of money you want to spend :25000\n",
      "*************************\n",
      "No. of shares you can buy ----- 126.0\n",
      "*************************\n",
      "Average of your stocks will be----- 212.87645598194132\n",
      "*************************\n",
      "Total no. of share you will have----- 443.0\n",
      "*************************\n",
      " Total invested amount will be ------ 94304.27\n",
      "None\n"
     ]
    }
   ],
   "source": [
    "x = int(input('''----------------------Press 1 for Buy the fixed no. of Shares \n",
    "                 -----Press 2 for Doing the average of Your choice \n",
    "                 -----Press 3 to Buy Shares of fixed amount '''))\n",
    "if x == 1 :\n",
    "    print(avg())\n",
    "elif x == 2 :\n",
    "    print(avg1())\n",
    "elif x==3 :\n",
    "    print(amount())"
   ]
  },
  {
   "cell_type": "code",
   "execution_count": null,
   "id": "01767fff",
   "metadata": {},
   "outputs": [],
   "source": []
  },
  {
   "cell_type": "code",
   "execution_count": null,
   "id": "8547b34b",
   "metadata": {},
   "outputs": [],
   "source": []
  },
  {
   "cell_type": "code",
   "execution_count": null,
   "id": "aa810c0e",
   "metadata": {},
   "outputs": [],
   "source": []
  }
 ],
 "metadata": {
  "kernelspec": {
   "display_name": "Python 3 (ipykernel)",
   "language": "python",
   "name": "python3"
  },
  "language_info": {
   "codemirror_mode": {
    "name": "ipython",
    "version": 3
   },
   "file_extension": ".py",
   "mimetype": "text/x-python",
   "name": "python",
   "nbconvert_exporter": "python",
   "pygments_lexer": "ipython3",
   "version": "3.9.12"
  }
 },
 "nbformat": 4,
 "nbformat_minor": 5
}
